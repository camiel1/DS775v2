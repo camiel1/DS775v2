{
 "cells": [
  {
   "cell_type": "code",
   "execution_count": 1,
   "metadata": {
    "code_folding": []
   },
   "outputs": [],
   "source": [
    "# execute to import notebook styling for tables and width etc.\n",
    "from IPython.core.display import HTML\n",
    "import urllib.request\n",
    "response = urllib.request.urlopen('https://raw.githubusercontent.com/DataScienceUWL/DS775v2/master/ds755.css')\n",
    "HTML(response.read().decode(\"utf-8\"));"
   ]
  },
  {
   "cell_type": "markdown",
   "metadata": {},
   "source": [
    "<font size=18>Lesson 02 Homework</font>"
   ]
  },
  {
   "cell_type": "markdown",
   "metadata": {
    "heading_collapsed": true
   },
   "source": [
    "# Sensitive Parameter"
   ]
  },
  {
   "cell_type": "markdown",
   "metadata": {
    "hidden": true
   },
   "source": [
    "A “sensitive parameter” is a parameter\n",
    "\n",
    "a.    that can be set outside of  its allowable range.\n",
    "\n",
    "b.    that satisfies the certainty assumption.\n",
    "\n",
    "c.    whose value must be estimated.\n",
    "\n",
    "d.      is a constraint boundary that can be changed without affecting the optimal solution.    \n",
    "\n",
    "e.    whose values cannot be changed without changing the optimal solution."
   ]
  },
  {
   "cell_type": "markdown",
   "metadata": {
    "hidden": true
   },
   "source": [
    "<font color = \"blue\"> *** 2 points -  answer in cell below *** (don't delete this cell) </font>"
   ]
  },
  {
   "cell_type": "markdown",
   "metadata": {
    "hidden": true
   },
   "source": []
  },
  {
   "cell_type": "markdown",
   "metadata": {
    "heading_collapsed": true
   },
   "source": [
    "# Shadow Price"
   ]
  },
  {
   "cell_type": "markdown",
   "metadata": {
    "hidden": true
   },
   "source": [
    "The shadow price for a resource is\n",
    "\n",
    "\n",
    "a.  the amount the objective function Z increases for each one unit  increase in the amount of the resource available when it goes beyond its allowable range.\n",
    "\n",
    "b.     the amount the objective function Z increases for each one unit  increase in the amount of the resource available, provided that is stays within its allowable range.\n",
    "\n",
    "c.  the range of values for the right-hand side over which the current optimal solution remains feasible.  \n",
    "\n",
    "d.  a constraint that must be satisfied.  \n",
    "\n",
    "e.  a constraint boundary that can be characterized by a random variable. "
   ]
  },
  {
   "cell_type": "markdown",
   "metadata": {
    "hidden": true
   },
   "source": [
    "<font color = \"blue\"> *** 2 points -  answer in cell below *** (don't delete this cell) </font>"
   ]
  },
  {
   "cell_type": "markdown",
   "metadata": {
    "hidden": true
   },
   "source": []
  },
  {
   "cell_type": "markdown",
   "metadata": {
    "heading_collapsed": true
   },
   "source": [
    "# Giapetto Interactive Widget Problem"
   ]
  },
  {
   "cell_type": "markdown",
   "metadata": {
    "hidden": true
   },
   "source": [
    "Giapetto's Woodcarving, Inc., manufactures two types of wooden toys: soldiers and trains.\n",
    "\n",
    "A soldier sells for 27 dollars and uses 10 dollars worth of raw materials. Each soldier that is manufactured increases Giapetto’s variable labor and overhead costs by 14 dollars (so think about what the unit profit would be). A train sells for 21 dollars and uses 9 dollars worth of raw materials. Each train built increases Giapetto’s variable labor and overhead costs by 10 dollars. The manufacture of wooden soldiers and trains requires two types of skilled labor: carpentry and finishing. A soldier requires 2 hours of finishing labor and 1 hour of carpentry labor. A train requires 1 hour of finishing labor and 1 hour of carpentry labor. Each week, Giapetto can obtain all the needed raw material but only 80 carpentry hours and 100 finishing hours. Demand for trains ($x_2$) is unlimited, but at most 40 soldiers ($x_1$) are bought each week. Giapetto wants to maximize weekly profit (revenues-costs). (This example is from the textbook \"Operations Research\" by Wayne L. Winston.)\n",
    "\n",
    "The model formulation that can be used to maximize Giapetto’s weekly profit is:\n",
    "\n",
    "Maximize $Z = 3x_1 + 2x_2,$ \n",
    "\n",
    "subject to \n",
    "\n",
    "$\n",
    "\\begin{array}{rcrcr}\n",
    "x_1 & + & x_2 & \\leq & 80 \\\\\n",
    "2x_1 & + & x_2 & \\leq & 100 \\\\\n",
    " x_1        &         &  & \\leq & 40 \n",
    "\\end{array}\n",
    "$\n",
    "\n",
    "and $x_1 \\geq 0, x_2 \\geq 0.$\n",
    "\n",
    "**Use the widget below** to answer the following questions (after the widget) about Giapetto's production of wooden soldiers and trains.  Do not use other methods to find the answers."
   ]
  },
  {
   "cell_type": "code",
   "execution_count": 1,
   "metadata": {
    "code_folding": [],
    "hidden": true,
    "scrolled": false
   },
   "outputs": [
    {
     "data": {
      "application/javascript": [
       "/* Put everything inside the global mpl namespace */\n",
       "window.mpl = {};\n",
       "\n",
       "\n",
       "mpl.get_websocket_type = function() {\n",
       "    if (typeof(WebSocket) !== 'undefined') {\n",
       "        return WebSocket;\n",
       "    } else if (typeof(MozWebSocket) !== 'undefined') {\n",
       "        return MozWebSocket;\n",
       "    } else {\n",
       "        alert('Your browser does not have WebSocket support. ' +\n",
       "              'Please try Chrome, Safari or Firefox ≥ 6. ' +\n",
       "              'Firefox 4 and 5 are also supported but you ' +\n",
       "              'have to enable WebSockets in about:config.');\n",
       "    };\n",
       "}\n",
       "\n",
       "mpl.figure = function(figure_id, websocket, ondownload, parent_element) {\n",
       "    this.id = figure_id;\n",
       "\n",
       "    this.ws = websocket;\n",
       "\n",
       "    this.supports_binary = (this.ws.binaryType != undefined);\n",
       "\n",
       "    if (!this.supports_binary) {\n",
       "        var warnings = document.getElementById(\"mpl-warnings\");\n",
       "        if (warnings) {\n",
       "            warnings.style.display = 'block';\n",
       "            warnings.textContent = (\n",
       "                \"This browser does not support binary websocket messages. \" +\n",
       "                    \"Performance may be slow.\");\n",
       "        }\n",
       "    }\n",
       "\n",
       "    this.imageObj = new Image();\n",
       "\n",
       "    this.context = undefined;\n",
       "    this.message = undefined;\n",
       "    this.canvas = undefined;\n",
       "    this.rubberband_canvas = undefined;\n",
       "    this.rubberband_context = undefined;\n",
       "    this.format_dropdown = undefined;\n",
       "\n",
       "    this.image_mode = 'full';\n",
       "\n",
       "    this.root = $('<div/>');\n",
       "    this._root_extra_style(this.root)\n",
       "    this.root.attr('style', 'display: inline-block');\n",
       "\n",
       "    $(parent_element).append(this.root);\n",
       "\n",
       "    this._init_header(this);\n",
       "    this._init_canvas(this);\n",
       "    this._init_toolbar(this);\n",
       "\n",
       "    var fig = this;\n",
       "\n",
       "    this.waiting = false;\n",
       "\n",
       "    this.ws.onopen =  function () {\n",
       "            fig.send_message(\"supports_binary\", {value: fig.supports_binary});\n",
       "            fig.send_message(\"send_image_mode\", {});\n",
       "            if (mpl.ratio != 1) {\n",
       "                fig.send_message(\"set_dpi_ratio\", {'dpi_ratio': mpl.ratio});\n",
       "            }\n",
       "            fig.send_message(\"refresh\", {});\n",
       "        }\n",
       "\n",
       "    this.imageObj.onload = function() {\n",
       "            if (fig.image_mode == 'full') {\n",
       "                // Full images could contain transparency (where diff images\n",
       "                // almost always do), so we need to clear the canvas so that\n",
       "                // there is no ghosting.\n",
       "                fig.context.clearRect(0, 0, fig.canvas.width, fig.canvas.height);\n",
       "            }\n",
       "            fig.context.drawImage(fig.imageObj, 0, 0);\n",
       "        };\n",
       "\n",
       "    this.imageObj.onunload = function() {\n",
       "        fig.ws.close();\n",
       "    }\n",
       "\n",
       "    this.ws.onmessage = this._make_on_message_function(this);\n",
       "\n",
       "    this.ondownload = ondownload;\n",
       "}\n",
       "\n",
       "mpl.figure.prototype._init_header = function() {\n",
       "    var titlebar = $(\n",
       "        '<div class=\"ui-dialog-titlebar ui-widget-header ui-corner-all ' +\n",
       "        'ui-helper-clearfix\"/>');\n",
       "    var titletext = $(\n",
       "        '<div class=\"ui-dialog-title\" style=\"width: 100%; ' +\n",
       "        'text-align: center; padding: 3px;\"/>');\n",
       "    titlebar.append(titletext)\n",
       "    this.root.append(titlebar);\n",
       "    this.header = titletext[0];\n",
       "}\n",
       "\n",
       "\n",
       "\n",
       "mpl.figure.prototype._canvas_extra_style = function(canvas_div) {\n",
       "\n",
       "}\n",
       "\n",
       "\n",
       "mpl.figure.prototype._root_extra_style = function(canvas_div) {\n",
       "\n",
       "}\n",
       "\n",
       "mpl.figure.prototype._init_canvas = function() {\n",
       "    var fig = this;\n",
       "\n",
       "    var canvas_div = $('<div/>');\n",
       "\n",
       "    canvas_div.attr('style', 'position: relative; clear: both; outline: 0');\n",
       "\n",
       "    function canvas_keyboard_event(event) {\n",
       "        return fig.key_event(event, event['data']);\n",
       "    }\n",
       "\n",
       "    canvas_div.keydown('key_press', canvas_keyboard_event);\n",
       "    canvas_div.keyup('key_release', canvas_keyboard_event);\n",
       "    this.canvas_div = canvas_div\n",
       "    this._canvas_extra_style(canvas_div)\n",
       "    this.root.append(canvas_div);\n",
       "\n",
       "    var canvas = $('<canvas/>');\n",
       "    canvas.addClass('mpl-canvas');\n",
       "    canvas.attr('style', \"left: 0; top: 0; z-index: 0; outline: 0\")\n",
       "\n",
       "    this.canvas = canvas[0];\n",
       "    this.context = canvas[0].getContext(\"2d\");\n",
       "\n",
       "    var backingStore = this.context.backingStorePixelRatio ||\n",
       "\tthis.context.webkitBackingStorePixelRatio ||\n",
       "\tthis.context.mozBackingStorePixelRatio ||\n",
       "\tthis.context.msBackingStorePixelRatio ||\n",
       "\tthis.context.oBackingStorePixelRatio ||\n",
       "\tthis.context.backingStorePixelRatio || 1;\n",
       "\n",
       "    mpl.ratio = (window.devicePixelRatio || 1) / backingStore;\n",
       "\n",
       "    var rubberband = $('<canvas/>');\n",
       "    rubberband.attr('style', \"position: absolute; left: 0; top: 0; z-index: 1;\")\n",
       "\n",
       "    var pass_mouse_events = true;\n",
       "\n",
       "    canvas_div.resizable({\n",
       "        start: function(event, ui) {\n",
       "            pass_mouse_events = false;\n",
       "        },\n",
       "        resize: function(event, ui) {\n",
       "            fig.request_resize(ui.size.width, ui.size.height);\n",
       "        },\n",
       "        stop: function(event, ui) {\n",
       "            pass_mouse_events = true;\n",
       "            fig.request_resize(ui.size.width, ui.size.height);\n",
       "        },\n",
       "    });\n",
       "\n",
       "    function mouse_event_fn(event) {\n",
       "        if (pass_mouse_events)\n",
       "            return fig.mouse_event(event, event['data']);\n",
       "    }\n",
       "\n",
       "    rubberband.mousedown('button_press', mouse_event_fn);\n",
       "    rubberband.mouseup('button_release', mouse_event_fn);\n",
       "    // Throttle sequential mouse events to 1 every 20ms.\n",
       "    rubberband.mousemove('motion_notify', mouse_event_fn);\n",
       "\n",
       "    rubberband.mouseenter('figure_enter', mouse_event_fn);\n",
       "    rubberband.mouseleave('figure_leave', mouse_event_fn);\n",
       "\n",
       "    canvas_div.on(\"wheel\", function (event) {\n",
       "        event = event.originalEvent;\n",
       "        event['data'] = 'scroll'\n",
       "        if (event.deltaY < 0) {\n",
       "            event.step = 1;\n",
       "        } else {\n",
       "            event.step = -1;\n",
       "        }\n",
       "        mouse_event_fn(event);\n",
       "    });\n",
       "\n",
       "    canvas_div.append(canvas);\n",
       "    canvas_div.append(rubberband);\n",
       "\n",
       "    this.rubberband = rubberband;\n",
       "    this.rubberband_canvas = rubberband[0];\n",
       "    this.rubberband_context = rubberband[0].getContext(\"2d\");\n",
       "    this.rubberband_context.strokeStyle = \"#000000\";\n",
       "\n",
       "    this._resize_canvas = function(width, height) {\n",
       "        // Keep the size of the canvas, canvas container, and rubber band\n",
       "        // canvas in synch.\n",
       "        canvas_div.css('width', width)\n",
       "        canvas_div.css('height', height)\n",
       "\n",
       "        canvas.attr('width', width * mpl.ratio);\n",
       "        canvas.attr('height', height * mpl.ratio);\n",
       "        canvas.attr('style', 'width: ' + width + 'px; height: ' + height + 'px;');\n",
       "\n",
       "        rubberband.attr('width', width);\n",
       "        rubberband.attr('height', height);\n",
       "    }\n",
       "\n",
       "    // Set the figure to an initial 600x600px, this will subsequently be updated\n",
       "    // upon first draw.\n",
       "    this._resize_canvas(600, 600);\n",
       "\n",
       "    // Disable right mouse context menu.\n",
       "    $(this.rubberband_canvas).bind(\"contextmenu\",function(e){\n",
       "        return false;\n",
       "    });\n",
       "\n",
       "    function set_focus () {\n",
       "        canvas.focus();\n",
       "        canvas_div.focus();\n",
       "    }\n",
       "\n",
       "    window.setTimeout(set_focus, 100);\n",
       "}\n",
       "\n",
       "mpl.figure.prototype._init_toolbar = function() {\n",
       "    var fig = this;\n",
       "\n",
       "    var nav_element = $('<div/>');\n",
       "    nav_element.attr('style', 'width: 100%');\n",
       "    this.root.append(nav_element);\n",
       "\n",
       "    // Define a callback function for later on.\n",
       "    function toolbar_event(event) {\n",
       "        return fig.toolbar_button_onclick(event['data']);\n",
       "    }\n",
       "    function toolbar_mouse_event(event) {\n",
       "        return fig.toolbar_button_onmouseover(event['data']);\n",
       "    }\n",
       "\n",
       "    for(var toolbar_ind in mpl.toolbar_items) {\n",
       "        var name = mpl.toolbar_items[toolbar_ind][0];\n",
       "        var tooltip = mpl.toolbar_items[toolbar_ind][1];\n",
       "        var image = mpl.toolbar_items[toolbar_ind][2];\n",
       "        var method_name = mpl.toolbar_items[toolbar_ind][3];\n",
       "\n",
       "        if (!name) {\n",
       "            // put a spacer in here.\n",
       "            continue;\n",
       "        }\n",
       "        var button = $('<button/>');\n",
       "        button.addClass('ui-button ui-widget ui-state-default ui-corner-all ' +\n",
       "                        'ui-button-icon-only');\n",
       "        button.attr('role', 'button');\n",
       "        button.attr('aria-disabled', 'false');\n",
       "        button.click(method_name, toolbar_event);\n",
       "        button.mouseover(tooltip, toolbar_mouse_event);\n",
       "\n",
       "        var icon_img = $('<span/>');\n",
       "        icon_img.addClass('ui-button-icon-primary ui-icon');\n",
       "        icon_img.addClass(image);\n",
       "        icon_img.addClass('ui-corner-all');\n",
       "\n",
       "        var tooltip_span = $('<span/>');\n",
       "        tooltip_span.addClass('ui-button-text');\n",
       "        tooltip_span.html(tooltip);\n",
       "\n",
       "        button.append(icon_img);\n",
       "        button.append(tooltip_span);\n",
       "\n",
       "        nav_element.append(button);\n",
       "    }\n",
       "\n",
       "    var fmt_picker_span = $('<span/>');\n",
       "\n",
       "    var fmt_picker = $('<select/>');\n",
       "    fmt_picker.addClass('mpl-toolbar-option ui-widget ui-widget-content');\n",
       "    fmt_picker_span.append(fmt_picker);\n",
       "    nav_element.append(fmt_picker_span);\n",
       "    this.format_dropdown = fmt_picker[0];\n",
       "\n",
       "    for (var ind in mpl.extensions) {\n",
       "        var fmt = mpl.extensions[ind];\n",
       "        var option = $(\n",
       "            '<option/>', {selected: fmt === mpl.default_extension}).html(fmt);\n",
       "        fmt_picker.append(option);\n",
       "    }\n",
       "\n",
       "    // Add hover states to the ui-buttons\n",
       "    $( \".ui-button\" ).hover(\n",
       "        function() { $(this).addClass(\"ui-state-hover\");},\n",
       "        function() { $(this).removeClass(\"ui-state-hover\");}\n",
       "    );\n",
       "\n",
       "    var status_bar = $('<span class=\"mpl-message\"/>');\n",
       "    nav_element.append(status_bar);\n",
       "    this.message = status_bar[0];\n",
       "}\n",
       "\n",
       "mpl.figure.prototype.request_resize = function(x_pixels, y_pixels) {\n",
       "    // Request matplotlib to resize the figure. Matplotlib will then trigger a resize in the client,\n",
       "    // which will in turn request a refresh of the image.\n",
       "    this.send_message('resize', {'width': x_pixels, 'height': y_pixels});\n",
       "}\n",
       "\n",
       "mpl.figure.prototype.send_message = function(type, properties) {\n",
       "    properties['type'] = type;\n",
       "    properties['figure_id'] = this.id;\n",
       "    this.ws.send(JSON.stringify(properties));\n",
       "}\n",
       "\n",
       "mpl.figure.prototype.send_draw_message = function() {\n",
       "    if (!this.waiting) {\n",
       "        this.waiting = true;\n",
       "        this.ws.send(JSON.stringify({type: \"draw\", figure_id: this.id}));\n",
       "    }\n",
       "}\n",
       "\n",
       "\n",
       "mpl.figure.prototype.handle_save = function(fig, msg) {\n",
       "    var format_dropdown = fig.format_dropdown;\n",
       "    var format = format_dropdown.options[format_dropdown.selectedIndex].value;\n",
       "    fig.ondownload(fig, format);\n",
       "}\n",
       "\n",
       "\n",
       "mpl.figure.prototype.handle_resize = function(fig, msg) {\n",
       "    var size = msg['size'];\n",
       "    if (size[0] != fig.canvas.width || size[1] != fig.canvas.height) {\n",
       "        fig._resize_canvas(size[0], size[1]);\n",
       "        fig.send_message(\"refresh\", {});\n",
       "    };\n",
       "}\n",
       "\n",
       "mpl.figure.prototype.handle_rubberband = function(fig, msg) {\n",
       "    var x0 = msg['x0'] / mpl.ratio;\n",
       "    var y0 = (fig.canvas.height - msg['y0']) / mpl.ratio;\n",
       "    var x1 = msg['x1'] / mpl.ratio;\n",
       "    var y1 = (fig.canvas.height - msg['y1']) / mpl.ratio;\n",
       "    x0 = Math.floor(x0) + 0.5;\n",
       "    y0 = Math.floor(y0) + 0.5;\n",
       "    x1 = Math.floor(x1) + 0.5;\n",
       "    y1 = Math.floor(y1) + 0.5;\n",
       "    var min_x = Math.min(x0, x1);\n",
       "    var min_y = Math.min(y0, y1);\n",
       "    var width = Math.abs(x1 - x0);\n",
       "    var height = Math.abs(y1 - y0);\n",
       "\n",
       "    fig.rubberband_context.clearRect(\n",
       "        0, 0, fig.canvas.width, fig.canvas.height);\n",
       "\n",
       "    fig.rubberband_context.strokeRect(min_x, min_y, width, height);\n",
       "}\n",
       "\n",
       "mpl.figure.prototype.handle_figure_label = function(fig, msg) {\n",
       "    // Updates the figure title.\n",
       "    fig.header.textContent = msg['label'];\n",
       "}\n",
       "\n",
       "mpl.figure.prototype.handle_cursor = function(fig, msg) {\n",
       "    var cursor = msg['cursor'];\n",
       "    switch(cursor)\n",
       "    {\n",
       "    case 0:\n",
       "        cursor = 'pointer';\n",
       "        break;\n",
       "    case 1:\n",
       "        cursor = 'default';\n",
       "        break;\n",
       "    case 2:\n",
       "        cursor = 'crosshair';\n",
       "        break;\n",
       "    case 3:\n",
       "        cursor = 'move';\n",
       "        break;\n",
       "    }\n",
       "    fig.rubberband_canvas.style.cursor = cursor;\n",
       "}\n",
       "\n",
       "mpl.figure.prototype.handle_message = function(fig, msg) {\n",
       "    fig.message.textContent = msg['message'];\n",
       "}\n",
       "\n",
       "mpl.figure.prototype.handle_draw = function(fig, msg) {\n",
       "    // Request the server to send over a new figure.\n",
       "    fig.send_draw_message();\n",
       "}\n",
       "\n",
       "mpl.figure.prototype.handle_image_mode = function(fig, msg) {\n",
       "    fig.image_mode = msg['mode'];\n",
       "}\n",
       "\n",
       "mpl.figure.prototype.updated_canvas_event = function() {\n",
       "    // Called whenever the canvas gets updated.\n",
       "    this.send_message(\"ack\", {});\n",
       "}\n",
       "\n",
       "// A function to construct a web socket function for onmessage handling.\n",
       "// Called in the figure constructor.\n",
       "mpl.figure.prototype._make_on_message_function = function(fig) {\n",
       "    return function socket_on_message(evt) {\n",
       "        if (evt.data instanceof Blob) {\n",
       "            /* FIXME: We get \"Resource interpreted as Image but\n",
       "             * transferred with MIME type text/plain:\" errors on\n",
       "             * Chrome.  But how to set the MIME type?  It doesn't seem\n",
       "             * to be part of the websocket stream */\n",
       "            evt.data.type = \"image/png\";\n",
       "\n",
       "            /* Free the memory for the previous frames */\n",
       "            if (fig.imageObj.src) {\n",
       "                (window.URL || window.webkitURL).revokeObjectURL(\n",
       "                    fig.imageObj.src);\n",
       "            }\n",
       "\n",
       "            fig.imageObj.src = (window.URL || window.webkitURL).createObjectURL(\n",
       "                evt.data);\n",
       "            fig.updated_canvas_event();\n",
       "            fig.waiting = false;\n",
       "            return;\n",
       "        }\n",
       "        else if (typeof evt.data === 'string' && evt.data.slice(0, 21) == \"data:image/png;base64\") {\n",
       "            fig.imageObj.src = evt.data;\n",
       "            fig.updated_canvas_event();\n",
       "            fig.waiting = false;\n",
       "            return;\n",
       "        }\n",
       "\n",
       "        var msg = JSON.parse(evt.data);\n",
       "        var msg_type = msg['type'];\n",
       "\n",
       "        // Call the  \"handle_{type}\" callback, which takes\n",
       "        // the figure and JSON message as its only arguments.\n",
       "        try {\n",
       "            var callback = fig[\"handle_\" + msg_type];\n",
       "        } catch (e) {\n",
       "            console.log(\"No handler for the '\" + msg_type + \"' message type: \", msg);\n",
       "            return;\n",
       "        }\n",
       "\n",
       "        if (callback) {\n",
       "            try {\n",
       "                // console.log(\"Handling '\" + msg_type + \"' message: \", msg);\n",
       "                callback(fig, msg);\n",
       "            } catch (e) {\n",
       "                console.log(\"Exception inside the 'handler_\" + msg_type + \"' callback:\", e, e.stack, msg);\n",
       "            }\n",
       "        }\n",
       "    };\n",
       "}\n",
       "\n",
       "// from http://stackoverflow.com/questions/1114465/getting-mouse-location-in-canvas\n",
       "mpl.findpos = function(e) {\n",
       "    //this section is from http://www.quirksmode.org/js/events_properties.html\n",
       "    var targ;\n",
       "    if (!e)\n",
       "        e = window.event;\n",
       "    if (e.target)\n",
       "        targ = e.target;\n",
       "    else if (e.srcElement)\n",
       "        targ = e.srcElement;\n",
       "    if (targ.nodeType == 3) // defeat Safari bug\n",
       "        targ = targ.parentNode;\n",
       "\n",
       "    // jQuery normalizes the pageX and pageY\n",
       "    // pageX,Y are the mouse positions relative to the document\n",
       "    // offset() returns the position of the element relative to the document\n",
       "    var x = e.pageX - $(targ).offset().left;\n",
       "    var y = e.pageY - $(targ).offset().top;\n",
       "\n",
       "    return {\"x\": x, \"y\": y};\n",
       "};\n",
       "\n",
       "/*\n",
       " * return a copy of an object with only non-object keys\n",
       " * we need this to avoid circular references\n",
       " * http://stackoverflow.com/a/24161582/3208463\n",
       " */\n",
       "function simpleKeys (original) {\n",
       "  return Object.keys(original).reduce(function (obj, key) {\n",
       "    if (typeof original[key] !== 'object')\n",
       "        obj[key] = original[key]\n",
       "    return obj;\n",
       "  }, {});\n",
       "}\n",
       "\n",
       "mpl.figure.prototype.mouse_event = function(event, name) {\n",
       "    var canvas_pos = mpl.findpos(event)\n",
       "\n",
       "    if (name === 'button_press')\n",
       "    {\n",
       "        this.canvas.focus();\n",
       "        this.canvas_div.focus();\n",
       "    }\n",
       "\n",
       "    var x = canvas_pos.x * mpl.ratio;\n",
       "    var y = canvas_pos.y * mpl.ratio;\n",
       "\n",
       "    this.send_message(name, {x: x, y: y, button: event.button,\n",
       "                             step: event.step,\n",
       "                             guiEvent: simpleKeys(event)});\n",
       "\n",
       "    /* This prevents the web browser from automatically changing to\n",
       "     * the text insertion cursor when the button is pressed.  We want\n",
       "     * to control all of the cursor setting manually through the\n",
       "     * 'cursor' event from matplotlib */\n",
       "    event.preventDefault();\n",
       "    return false;\n",
       "}\n",
       "\n",
       "mpl.figure.prototype._key_event_extra = function(event, name) {\n",
       "    // Handle any extra behaviour associated with a key event\n",
       "}\n",
       "\n",
       "mpl.figure.prototype.key_event = function(event, name) {\n",
       "\n",
       "    // Prevent repeat events\n",
       "    if (name == 'key_press')\n",
       "    {\n",
       "        if (event.which === this._key)\n",
       "            return;\n",
       "        else\n",
       "            this._key = event.which;\n",
       "    }\n",
       "    if (name == 'key_release')\n",
       "        this._key = null;\n",
       "\n",
       "    var value = '';\n",
       "    if (event.ctrlKey && event.which != 17)\n",
       "        value += \"ctrl+\";\n",
       "    if (event.altKey && event.which != 18)\n",
       "        value += \"alt+\";\n",
       "    if (event.shiftKey && event.which != 16)\n",
       "        value += \"shift+\";\n",
       "\n",
       "    value += 'k';\n",
       "    value += event.which.toString();\n",
       "\n",
       "    this._key_event_extra(event, name);\n",
       "\n",
       "    this.send_message(name, {key: value,\n",
       "                             guiEvent: simpleKeys(event)});\n",
       "    return false;\n",
       "}\n",
       "\n",
       "mpl.figure.prototype.toolbar_button_onclick = function(name) {\n",
       "    if (name == 'download') {\n",
       "        this.handle_save(this, null);\n",
       "    } else {\n",
       "        this.send_message(\"toolbar_button\", {name: name});\n",
       "    }\n",
       "};\n",
       "\n",
       "mpl.figure.prototype.toolbar_button_onmouseover = function(tooltip) {\n",
       "    this.message.textContent = tooltip;\n",
       "};\n",
       "mpl.toolbar_items = [[\"Home\", \"Reset original view\", \"fa fa-home icon-home\", \"home\"], [\"Back\", \"Back to previous view\", \"fa fa-arrow-left icon-arrow-left\", \"back\"], [\"Forward\", \"Forward to next view\", \"fa fa-arrow-right icon-arrow-right\", \"forward\"], [\"\", \"\", \"\", \"\"], [\"Pan\", \"Pan axes with left mouse, zoom with right\", \"fa fa-arrows icon-move\", \"pan\"], [\"Zoom\", \"Zoom to rectangle\", \"fa fa-square-o icon-check-empty\", \"zoom\"], [\"\", \"\", \"\", \"\"], [\"Download\", \"Download plot\", \"fa fa-floppy-o icon-save\", \"download\"]];\n",
       "\n",
       "mpl.extensions = [\"eps\", \"pdf\", \"png\", \"ps\", \"raw\", \"svg\"];\n",
       "\n",
       "mpl.default_extension = \"png\";var comm_websocket_adapter = function(comm) {\n",
       "    // Create a \"websocket\"-like object which calls the given IPython comm\n",
       "    // object with the appropriate methods. Currently this is a non binary\n",
       "    // socket, so there is still some room for performance tuning.\n",
       "    var ws = {};\n",
       "\n",
       "    ws.close = function() {\n",
       "        comm.close()\n",
       "    };\n",
       "    ws.send = function(m) {\n",
       "        //console.log('sending', m);\n",
       "        comm.send(m);\n",
       "    };\n",
       "    // Register the callback with on_msg.\n",
       "    comm.on_msg(function(msg) {\n",
       "        //console.log('receiving', msg['content']['data'], msg);\n",
       "        // Pass the mpl event to the overridden (by mpl) onmessage function.\n",
       "        ws.onmessage(msg['content']['data'])\n",
       "    });\n",
       "    return ws;\n",
       "}\n",
       "\n",
       "mpl.mpl_figure_comm = function(comm, msg) {\n",
       "    // This is the function which gets called when the mpl process\n",
       "    // starts-up an IPython Comm through the \"matplotlib\" channel.\n",
       "\n",
       "    var id = msg.content.data.id;\n",
       "    // Get hold of the div created by the display call when the Comm\n",
       "    // socket was opened in Python.\n",
       "    var element = $(\"#\" + id);\n",
       "    var ws_proxy = comm_websocket_adapter(comm)\n",
       "\n",
       "    function ondownload(figure, format) {\n",
       "        window.open(figure.imageObj.src);\n",
       "    }\n",
       "\n",
       "    var fig = new mpl.figure(id, ws_proxy,\n",
       "                           ondownload,\n",
       "                           element.get(0));\n",
       "\n",
       "    // Call onopen now - mpl needs it, as it is assuming we've passed it a real\n",
       "    // web socket which is closed, not our websocket->open comm proxy.\n",
       "    ws_proxy.onopen();\n",
       "\n",
       "    fig.parent_element = element.get(0);\n",
       "    fig.cell_info = mpl.find_output_cell(\"<div id='\" + id + \"'></div>\");\n",
       "    if (!fig.cell_info) {\n",
       "        console.error(\"Failed to find cell for figure\", id, fig);\n",
       "        return;\n",
       "    }\n",
       "\n",
       "    var output_index = fig.cell_info[2]\n",
       "    var cell = fig.cell_info[0];\n",
       "\n",
       "};\n",
       "\n",
       "mpl.figure.prototype.handle_close = function(fig, msg) {\n",
       "    var width = fig.canvas.width/mpl.ratio\n",
       "    fig.root.unbind('remove')\n",
       "\n",
       "    // Update the output cell to use the data from the current canvas.\n",
       "    fig.push_to_output();\n",
       "    var dataURL = fig.canvas.toDataURL();\n",
       "    // Re-enable the keyboard manager in IPython - without this line, in FF,\n",
       "    // the notebook keyboard shortcuts fail.\n",
       "    IPython.keyboard_manager.enable()\n",
       "    $(fig.parent_element).html('<img src=\"' + dataURL + '\" width=\"' + width + '\">');\n",
       "    fig.close_ws(fig, msg);\n",
       "}\n",
       "\n",
       "mpl.figure.prototype.close_ws = function(fig, msg){\n",
       "    fig.send_message('closing', msg);\n",
       "    // fig.ws.close()\n",
       "}\n",
       "\n",
       "mpl.figure.prototype.push_to_output = function(remove_interactive) {\n",
       "    // Turn the data on the canvas into data in the output cell.\n",
       "    var width = this.canvas.width/mpl.ratio\n",
       "    var dataURL = this.canvas.toDataURL();\n",
       "    this.cell_info[1]['text/html'] = '<img src=\"' + dataURL + '\" width=\"' + width + '\">';\n",
       "}\n",
       "\n",
       "mpl.figure.prototype.updated_canvas_event = function() {\n",
       "    // Tell IPython that the notebook contents must change.\n",
       "    IPython.notebook.set_dirty(true);\n",
       "    this.send_message(\"ack\", {});\n",
       "    var fig = this;\n",
       "    // Wait a second, then push the new image to the DOM so\n",
       "    // that it is saved nicely (might be nice to debounce this).\n",
       "    setTimeout(function () { fig.push_to_output() }, 1000);\n",
       "}\n",
       "\n",
       "mpl.figure.prototype._init_toolbar = function() {\n",
       "    var fig = this;\n",
       "\n",
       "    var nav_element = $('<div/>');\n",
       "    nav_element.attr('style', 'width: 100%');\n",
       "    this.root.append(nav_element);\n",
       "\n",
       "    // Define a callback function for later on.\n",
       "    function toolbar_event(event) {\n",
       "        return fig.toolbar_button_onclick(event['data']);\n",
       "    }\n",
       "    function toolbar_mouse_event(event) {\n",
       "        return fig.toolbar_button_onmouseover(event['data']);\n",
       "    }\n",
       "\n",
       "    for(var toolbar_ind in mpl.toolbar_items){\n",
       "        var name = mpl.toolbar_items[toolbar_ind][0];\n",
       "        var tooltip = mpl.toolbar_items[toolbar_ind][1];\n",
       "        var image = mpl.toolbar_items[toolbar_ind][2];\n",
       "        var method_name = mpl.toolbar_items[toolbar_ind][3];\n",
       "\n",
       "        if (!name) { continue; };\n",
       "\n",
       "        var button = $('<button class=\"btn btn-default\" href=\"#\" title=\"' + name + '\"><i class=\"fa ' + image + ' fa-lg\"></i></button>');\n",
       "        button.click(method_name, toolbar_event);\n",
       "        button.mouseover(tooltip, toolbar_mouse_event);\n",
       "        nav_element.append(button);\n",
       "    }\n",
       "\n",
       "    // Add the status bar.\n",
       "    var status_bar = $('<span class=\"mpl-message\" style=\"text-align:right; float: right;\"/>');\n",
       "    nav_element.append(status_bar);\n",
       "    this.message = status_bar[0];\n",
       "\n",
       "    // Add the close button to the window.\n",
       "    var buttongrp = $('<div class=\"btn-group inline pull-right\"></div>');\n",
       "    var button = $('<button class=\"btn btn-mini btn-primary\" href=\"#\" title=\"Stop Interaction\"><i class=\"fa fa-power-off icon-remove icon-large\"></i></button>');\n",
       "    button.click(function (evt) { fig.handle_close(fig, {}); } );\n",
       "    button.mouseover('Stop Interaction', toolbar_mouse_event);\n",
       "    buttongrp.append(button);\n",
       "    var titlebar = this.root.find($('.ui-dialog-titlebar'));\n",
       "    titlebar.prepend(buttongrp);\n",
       "}\n",
       "\n",
       "mpl.figure.prototype._root_extra_style = function(el){\n",
       "    var fig = this\n",
       "    el.on(\"remove\", function(){\n",
       "\tfig.close_ws(fig, {});\n",
       "    });\n",
       "}\n",
       "\n",
       "mpl.figure.prototype._canvas_extra_style = function(el){\n",
       "    // this is important to make the div 'focusable\n",
       "    el.attr('tabindex', 0)\n",
       "    // reach out to IPython and tell the keyboard manager to turn it's self\n",
       "    // off when our div gets focus\n",
       "\n",
       "    // location in version 3\n",
       "    if (IPython.notebook.keyboard_manager) {\n",
       "        IPython.notebook.keyboard_manager.register_events(el);\n",
       "    }\n",
       "    else {\n",
       "        // location in version 2\n",
       "        IPython.keyboard_manager.register_events(el);\n",
       "    }\n",
       "\n",
       "}\n",
       "\n",
       "mpl.figure.prototype._key_event_extra = function(event, name) {\n",
       "    var manager = IPython.notebook.keyboard_manager;\n",
       "    if (!manager)\n",
       "        manager = IPython.keyboard_manager;\n",
       "\n",
       "    // Check for shift+enter\n",
       "    if (event.shiftKey && event.which == 13) {\n",
       "        this.canvas_div.blur();\n",
       "        event.shiftKey = false;\n",
       "        // Send a \"J\" for go to next cell\n",
       "        event.which = 74;\n",
       "        event.keyCode = 74;\n",
       "        manager.command_mode();\n",
       "        manager.handle_keydown(event);\n",
       "    }\n",
       "}\n",
       "\n",
       "mpl.figure.prototype.handle_save = function(fig, msg) {\n",
       "    fig.ondownload(fig, null);\n",
       "}\n",
       "\n",
       "\n",
       "mpl.find_output_cell = function(html_output) {\n",
       "    // Return the cell and output element which can be found *uniquely* in the notebook.\n",
       "    // Note - this is a bit hacky, but it is done because the \"notebook_saving.Notebook\"\n",
       "    // IPython event is triggered only after the cells have been serialised, which for\n",
       "    // our purposes (turning an active figure into a static one), is too late.\n",
       "    var cells = IPython.notebook.get_cells();\n",
       "    var ncells = cells.length;\n",
       "    for (var i=0; i<ncells; i++) {\n",
       "        var cell = cells[i];\n",
       "        if (cell.cell_type === 'code'){\n",
       "            for (var j=0; j<cell.output_area.outputs.length; j++) {\n",
       "                var data = cell.output_area.outputs[j];\n",
       "                if (data.data) {\n",
       "                    // IPython >= 3 moved mimebundle to data attribute of output\n",
       "                    data = data.data;\n",
       "                }\n",
       "                if (data['text/html'] == html_output) {\n",
       "                    return [cell, data, j];\n",
       "                }\n",
       "            }\n",
       "        }\n",
       "    }\n",
       "}\n",
       "\n",
       "// Register the function which deals with the matplotlib target/channel.\n",
       "// The kernel may be null if the page has been refreshed.\n",
       "if (IPython.notebook.kernel != null) {\n",
       "    IPython.notebook.kernel.comm_manager.register_target('matplotlib', mpl.mpl_figure_comm);\n",
       "}\n"
      ],
      "text/plain": [
       "<IPython.core.display.Javascript object>"
      ]
     },
     "metadata": {},
     "output_type": "display_data"
    },
    {
     "data": {
      "text/html": [
       "<img src=\"data:image/png;base64,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\" width=\"599.9999869953505\">"
      ],
      "text/plain": [
       "<IPython.core.display.HTML object>"
      ]
     },
     "metadata": {},
     "output_type": "display_data"
    },
    {
     "data": {
      "application/vnd.jupyter.widget-view+json": {
       "model_id": "5211dbaaefa74815ba535ce9f20bb154",
       "version_major": 2,
       "version_minor": 0
      },
      "text/plain": [
       "interactive(children=(FloatSlider(value=0.5, description='profScl', max=1.5, min=0.5, step=0.05), FloatSlider(…"
      ]
     },
     "metadata": {},
     "output_type": "display_data"
    }
   ],
   "source": [
    "# Run this to see widget, it isn't important to understand the code\n",
    "\n",
    "%matplotlib notebook\n",
    "from ipywidgets import *\n",
    "from matplotlib import pyplot as plt\n",
    "from matplotlib.path import Path\n",
    "from matplotlib.patches import PathPatch\n",
    "import numpy as np\n",
    "from pyomo.environ import *\n",
    "\n",
    "def GiapettoInteractiveGraph( coefSlider = False, constraintSlider = False):\n",
    "\n",
    "    # create model instance\n",
    "    model = ConcreteModel( name = \"Giapetto\" )\n",
    "\n",
    "    # decision variables\n",
    "    model.soldiers = Var( domain = NonNegativeReals )\n",
    "    model.trains = Var( domain = NonNegativeReals )\n",
    "\n",
    "    # objective function\n",
    "    model.c1 = Param(default=3,mutable=True)\n",
    "    model.c2 = Param(default=2,mutable=True)\n",
    "    model.profit = Objective( expr = model.c1 * model.soldiers + model.c2 * model.trains, sense = maximize )\n",
    "\n",
    "    # constraints\n",
    "    model.b1 = Param(default=80,mutable=True)\n",
    "    model.b2 = Param(default=100,mutable=True)\n",
    "    model.b3 = Param(default=40,mutable=True)\n",
    "    model.labor_hours = Constraint( expr = model.soldiers + model.trains <= model.b1 )\n",
    "    model.finishing_hours = Constraint( expr = 2 * model.soldiers + model.trains <= model.b2 )\n",
    "    model.soldier_demand = Constraint( expr = model.soldiers <= model.b3 )\n",
    "\n",
    "    # solver\n",
    "    solver = SolverFactory('glpk')\n",
    "\n",
    "\n",
    "    # use seaborn to change the default graphics to something nicer\n",
    "    # and set a nice color palette\n",
    "    import seaborn as sns\n",
    "    sns.set_palette('Set1')\n",
    "\n",
    "    # create the plot object\n",
    "    fig, ax = plt.subplots(figsize=(6,6)) # change to (8,8) to make larger figure if needed\n",
    "    s = np.linspace(0, 100)\n",
    "\n",
    "    # add carpentry constraint: trains <= 80 - soldiers\n",
    "    carpentry_line, = plt.plot(s, 80 - s, lw=3, label='carpentry',color='r')\n",
    "    carpentry_fill = plt.fill_between(s, 0, 80 - s, alpha=0.1,color='r')\n",
    "\n",
    "    # add finishing constraint: trains <= 100 - 2*soldiers\n",
    "    finishing_line, = plt.plot(s, 100 - 2 * s, lw=3, label='finishing',color='g')\n",
    "    finishing_fill = plt.fill_between(s, 0, 100 - 2 * s, alpha=0.1,color='g')\n",
    "\n",
    "    # add demains constraint: soldiers <= 40\n",
    "    demand_line, = plt.plot(40 * np.ones_like(s), s, lw=3, label='demand',color='b')\n",
    "    demand_fill = plt.fill_betweenx(s, 0, 40, alpha=0.1,color='b')\n",
    "\n",
    "    # add non-negativity constraints\n",
    "    plt.plot(np.zeros_like(s), s, lw=3, label='t non-negative',color='c')\n",
    "    plt.plot(s, np.zeros_like(s), lw=3, label='s non-negative',color='m')\n",
    "\n",
    "    # level curve for profit P\n",
    "    profit_line, = plt.plot(s, .5*180 - 1.5*s, 'k--', lw = 3, label = 'profit')\n",
    "\n",
    "    # labels and stuff\n",
    "    plt.xlabel('soldiers', fontsize=16)\n",
    "    plt.ylabel('trains', fontsize=16)\n",
    "    plt.xlim(-0.5, 100)\n",
    "    plt.ylim(-0.5, 100)\n",
    "    plt.legend(loc = 'upper right',fontsize=12)\n",
    "\n",
    "    # additional elements\n",
    "    # pt, = plt.plot(20, 60, 'k.', markersize = 20 )\n",
    "    txt = plt.text( 81, 67.5, '= 180', fontsize = 14, zorder=10)\n",
    "    txt2 = plt.text( 60, 60, 'Max Profit = 180', fontsize = 14)\n",
    "\n",
    "    plt.show()\n",
    "\n",
    "    def update( profScl = .5, c1 = 3, c2 = 2, b1 = 80, b2 = 100, b3 = 40):\n",
    "        model.c1 = c1\n",
    "        model.c2 = c2\n",
    "        model.b1 = b1\n",
    "        model.b2 = b2\n",
    "        model.b3 = b3\n",
    "        solver.solve(model)\n",
    "        mxprofit = model.profit()\n",
    "        profit = mxprofit*profScl\n",
    " \n",
    "        profit_line.set_ydata((profit-c1*s)/(c2+.0001)) # hack to avoid div by 0\n",
    "        ax.collections.clear()\n",
    "        carpentry_line.set_ydata(b1-s)\n",
    "        plt.fill_between(s, 0, b1 - s, alpha=0.1,color='r')\n",
    "        finishing_line.set_ydata(b2-2*s)\n",
    "        plt.fill_between(s, 0, b2 - 2 * s, alpha=0.1,color='g')\n",
    "        demand_line.set_xdata(b3*np.ones_like(s))\n",
    "        plt.fill_betweenx(s, 0, b3, alpha=0.1,color='b')    \n",
    "        txt.set_text('= {:3.1f}'.format(profit) )\n",
    "        txt2.set_text('Max Profit = {:3.1f}'.format(mxprofit) )\n",
    "#        pt.set_xdata(model.soldiers())\n",
    "#        pt.set_ydata(model.trains())\n",
    "        fig.canvas.draw()\n",
    "\n",
    "    if (coefSlider and constraintSlider):\n",
    "        interact(update,profScl=(.5,1.5,.05),c1=(0,5,.5),c2=(0,5,.5),b1=(60,120),b2=(70,130),b3=(15,50));\n",
    "    elif (coefSlider and not constraintSlider):\n",
    "        interact(update,profScl=(.5,1.5,.05),c1=(0,5,.5),c2=(0,5,.5),b1=fixed(80),b2=fixed(100),b3=fixed(40));\n",
    "    elif (not coefSlider and constraintSlider):\n",
    "        interact(update,profScl=(.5,1.5,.05),c1=fixed(3),c2=fixed(2),b1=(75,85),b2=(95,105),b3=(35,45));\n",
    "    else:\n",
    "        interact(update,profScl=(.5,1.5,.05),c1=fixed(3),c2=fixed(2),b1=fixed(80),b2=fixed(100),b3=fixed(40));\n",
    "\n",
    "GiapettoInteractiveGraph(True,True);"
   ]
  },
  {
   "cell_type": "markdown",
   "metadata": {
    "hidden": true
   },
   "source": [
    "(a) Find and interpret the shadow price for the weekly carpentry hours."
   ]
  },
  {
   "cell_type": "markdown",
   "metadata": {
    "hidden": true
   },
   "source": [
    "<font color = \"blue\"> *** 2 points -  answer in cell below *** (don't delete this cell) </font>"
   ]
  },
  {
   "cell_type": "markdown",
   "metadata": {
    "hidden": true
   },
   "source": []
  },
  {
   "cell_type": "markdown",
   "metadata": {
    "hidden": true
   },
   "source": [
    "(b) Find and interpret the allowable range for the weekly finishing hours."
   ]
  },
  {
   "cell_type": "markdown",
   "metadata": {
    "hidden": true
   },
   "source": [
    "<font color = \"blue\"> *** 1 points -  answer in cell below *** (don't delete this cell) </font>"
   ]
  },
  {
   "cell_type": "markdown",
   "metadata": {
    "hidden": true
   },
   "source": []
  },
  {
   "cell_type": "markdown",
   "metadata": {
    "hidden": true
   },
   "source": [
    "(c) If everything else stays the same as in the initial problem, how far could the demand for toy soldiers drop before the demand becomes a sensitive parameter?"
   ]
  },
  {
   "cell_type": "markdown",
   "metadata": {
    "hidden": true
   },
   "source": [
    "<font color = \"blue\"> *** 1 points -  answer in cell below *** (don't delete this cell) </font>"
   ]
  },
  {
   "cell_type": "markdown",
   "metadata": {
    "hidden": true
   },
   "source": []
  },
  {
   "cell_type": "markdown",
   "metadata": {
    "hidden": true
   },
   "source": [
    "(d) If everything else stayed the same, but the price of selling the soldier increased to \\\\$28.50, \n",
    "\n",
    "    (i) what would be the maximum profit, "
   ]
  },
  {
   "cell_type": "markdown",
   "metadata": {
    "hidden": true
   },
   "source": [
    "<font color = \"blue\"> *** 1 points -  answer in cell below *** (don't delete this cell) </font>"
   ]
  },
  {
   "cell_type": "markdown",
   "metadata": {
    "hidden": true
   },
   "source": []
  },
  {
   "cell_type": "markdown",
   "metadata": {
    "hidden": true
   },
   "source": [
    "    (ii) how many of each toy should be produced to achieve it,"
   ]
  },
  {
   "cell_type": "markdown",
   "metadata": {
    "hidden": true
   },
   "source": [
    "<font color = \"blue\"> *** 1 points -  answer in cell below *** (don't delete this cell) </font>"
   ]
  },
  {
   "cell_type": "markdown",
   "metadata": {
    "hidden": true
   },
   "source": []
  },
  {
   "cell_type": "markdown",
   "metadata": {
    "hidden": true
   },
   "source": [
    "    (iii) and what is the new shadow price for weekly carpentry hours?  Why is this the new shadow price?"
   ]
  },
  {
   "cell_type": "markdown",
   "metadata": {
    "hidden": true
   },
   "source": [
    "<font color = \"blue\"> *** 2 points -  answer in cell below *** (don't delete this cell) </font>"
   ]
  },
  {
   "cell_type": "markdown",
   "metadata": {
    "hidden": true
   },
   "source": []
  },
  {
   "cell_type": "markdown",
   "metadata": {
    "heading_collapsed": true
   },
   "source": [
    "# Textbook Problem 4.7-3"
   ]
  },
  {
   "cell_type": "markdown",
   "metadata": {
    "hidden": true
   },
   "source": [
    "You are given the following linear programming problem: \n",
    "\n",
    "Maximize $Z = 4x_1 + 2x_2,$ \n",
    "\n",
    "subject to \n",
    "\n",
    "$\n",
    "\\begin{array}{rcrcr}\n",
    "2x_1 & & & \\leq & 16 \\\\\n",
    "x_1 & + & 3x_2 & \\leq & 17 \\\\\n",
    "         &         & x_2 & \\leq & 5 \n",
    "\\end{array}\n",
    "$\n",
    "\n",
    "and $x_1 \\geq 0, x_2 \\geq 0.$\n",
    "\n",
    "(a) Solve this problem graphically and include a screenshot here."
   ]
  },
  {
   "cell_type": "markdown",
   "metadata": {
    "hidden": true
   },
   "source": [
    "<font color = \"blue\"> *** 2 points -  answer in cell below *** (don't delete this cell) </font>"
   ]
  },
  {
   "cell_type": "markdown",
   "metadata": {
    "hidden": true
   },
   "source": []
  },
  {
   "cell_type": "markdown",
   "metadata": {
    "hidden": true
   },
   "source": [
    "(b) Use graphical analysis to find the shadow prices for the\n",
    "  resources.  Use PHPSimplex.com/en, DESMOS.com, or graph by hand.  Paste a screenshot or image of your work into your homework file.  Make sure to clearly identify the shadow prices"
   ]
  },
  {
   "cell_type": "markdown",
   "metadata": {
    "hidden": true
   },
   "source": [
    "<font color = \"blue\"> *** 2 points -  answer in cell below *** (don't delete this cell) </font>"
   ]
  },
  {
   "cell_type": "markdown",
   "metadata": {
    "hidden": true
   },
   "source": []
  },
  {
   "cell_type": "markdown",
   "metadata": {
    "hidden": true
   },
   "source": [
    "(c) Determine how many additional units of resource 1 would need to\n",
    "increase the optimal value of $Z$ by 15."
   ]
  },
  {
   "cell_type": "markdown",
   "metadata": {
    "hidden": true
   },
   "source": [
    "<font color = \"blue\"> *** 2 points -  answer in cell below *** (don't delete this cell) </font>"
   ]
  },
  {
   "cell_type": "markdown",
   "metadata": {
    "hidden": true
   },
   "source": []
  },
  {
   "cell_type": "code",
   "execution_count": 7,
   "metadata": {
    "hidden": true
   },
   "outputs": [
    {
     "data": {
      "text/plain": [
       "{'A': 4, 'B': 6, 'C': 8}"
      ]
     },
     "execution_count": 7,
     "metadata": {},
     "output_type": "execute_result"
    }
   ],
   "source": [
    "dict1 = {'A':5, 'B':6, 'C':9}\n",
    "dict2 = {'A':4, 'B':8, 'C':8}\n",
    "\n",
    "dictmin = {k:min( [ dict1[k], dict2[k] ] ) for k in dict1.keys() }\n",
    "\n",
    "dictmin"
   ]
  },
  {
   "cell_type": "markdown",
   "metadata": {
    "heading_collapsed": true
   },
   "source": [
    "# Textbook Problem 3.5-5"
   ]
  },
  {
   "cell_type": "markdown",
   "metadata": {
    "hidden": true
   },
   "source": [
    "Fred Jonasson manages a family-owned farm. To supplement several food products grown on the farm, Fred also raises pigs for market. He now wishes to determine the quantities of the available types of feed (corn, tankage, and alfalfa) that should be given to each pig. Since pigs will eat any mix of these feed types, the objective is to determine which mix will meet certain nutritional requirements at a minimum cost. The number of units of each type of basic nutritional ingredient contained within a kilogram of each feed type is given in the following table, along with the daily nutritional requirements and feed costs:\n",
    "\n",
    "<table>\n",
    "    <tr>\n",
    "        <th style=\"border-right:thin solid;border-bottom:thin solid;\"> &nbsp; <br> Nutrional <br> Ingredient </th>\n",
    "        <th style=\"border-bottom:thin solid;\"> Kilogram <br> of<br> Corn </th>\n",
    "        <th style=\"border-bottom:thin solid;\"> Kilogram <br> of <br> Tankage </th>\n",
    "        <th style=\"border-bottom:thin solid;\"> Kilogram<br>of<br>Alfalfa</th>\n",
    "        <th style=\"border-left: thin solid;border-bottom:thin solid;\"> Minimum<br>Daily<br>Requirement </th>\n",
    "    </tr>\n",
    "    <tr>\n",
    "        <td style=\"border-right:thin solid;\"> Carbohydrates </td>\n",
    "        <td> 90 </td>\n",
    "        <td> 20 </td>\n",
    "        <td> 40 </td>\n",
    "        <td style=\"border-left:thin solid;\"> 200 </td>\n",
    "    </tr>\n",
    "    <tr>\n",
    "        <td style=\"border-right:thin solid;\"> Protein </td>\n",
    "        <td> 30 </td>\n",
    "        <td> 80 </td>\n",
    "        <td> 60 </td>\n",
    "        <td style=\"border-left:thin solid;\"> 180 </td>\n",
    "    </tr>\n",
    "    <tr>\n",
    "        <td style=\"border-right:thin solid;\"> Vitamins </td>\n",
    "        <td> 10 </td>\n",
    "        <td> 20 </td>\n",
    "        <td> 60 </td>\n",
    "        <td style=\"border-left:thin solid;\"> 150 </td>\n",
    "    </tr>        \n",
    "    <tr>\n",
    "        <td style=\"border-top:thin solid;border-right:thin solid\"> Cost </td>\n",
    "        <td style=\"border-top:thin solid;\"> \\$2.10 </td>\n",
    "        <td style=\"border-top:thin solid;\"> \\$1.80 </td>\n",
    "        <td style=\"border-top:thin solid;\"> \\$1.50 </td>\n",
    "        <td style=\"border-left:thin solid; border-top:thin solid;\"> &nbsp; </td>\n",
    "    </tr>\n",
    "</table>"
   ]
  },
  {
   "cell_type": "markdown",
   "metadata": {
    "hidden": true
   },
   "source": [
    "(a) Formulate a linear programming model for this problem.  LaTeX or handwritten with picture."
   ]
  },
  {
   "cell_type": "markdown",
   "metadata": {
    "hidden": true
   },
   "source": [
    "<font color = \"blue\"> *** 2 points -  answer in cell below *** (don't delete this cell) </font>"
   ]
  },
  {
   "cell_type": "markdown",
   "metadata": {
    "hidden": true
   },
   "source": []
  },
  {
   "cell_type": "markdown",
   "metadata": {
    "hidden": true
   },
   "source": [
    "(b) Use Pyomo to solve this problem. Your solution should include all necessary code and inputs and it should produce formatted output.  You should use the abstract approach as we did in the lesson."
   ]
  },
  {
   "cell_type": "markdown",
   "metadata": {
    "hidden": true
   },
   "source": [
    "<font color = \"blue\"> *** 6 points -  answer in cell below *** (don't delete this cell) </font>"
   ]
  },
  {
   "cell_type": "code",
   "execution_count": null,
   "metadata": {
    "hidden": true
   },
   "outputs": [],
   "source": []
  },
  {
   "cell_type": "markdown",
   "metadata": {
    "heading_collapsed": true
   },
   "source": [
    "# Textbook Problem 3.4-15 Revisited"
   ]
  },
  {
   "cell_type": "markdown",
   "metadata": {
    "hidden": true
   },
   "source": [
    "Oxbridge University maintains a powerful mainframe computer\n",
    "  for research use by its faculty, Ph.D. students, and research\n",
    "  associates. During all working hours, an operator must be available\n",
    "  to operate and maintain the computer, as well as to perform some\n",
    "  programming services. Beryl Ingram, the director of the computer\n",
    "  facility, oversees the operation.  \n",
    "\n",
    "  It is now the beginning of the\n",
    "  fall semester, and Beryl is confronted with the problem of assigning\n",
    "  different working hours to her operators. Because all the operators\n",
    "  are currently enrolled in the university, they are available to work\n",
    "  only a limited number of hours\n",
    "  each day, as shown in the following table: \n",
    "  \n",
    "  <img src=\"images/screen-problem5.png\" width=\"440\" height=\"250\">\n",
    "  \n",
    "  There are six operators (four undergraduate students and two\n",
    "  graduate students). They all have different wage rates because of\n",
    "  differences in their experience with computers and in their pro-\n",
    "  gramming ability. The above table shows their wage rates, along with\n",
    "  the maximum number of hours that each can work each day.  \n",
    "\n",
    "  Each\n",
    "  operator is guaranteed a certain minimum number of hours per week\n",
    "  that will maintain an adequate knowledge of the operation. This\n",
    "  level is set arbitrarily at 8 hours per week for the undergraduate\n",
    "  students (K. C., D. H., H. B., and S. C.) and 7 hours per week for\n",
    "  the graduate students (K. S. and N. K.).\n",
    "\n",
    "  The computer facility is to be open for operation from 8 A.M. to 10\n",
    "  P.M. Monday through Friday with exactly one operator on duty during\n",
    "  these hours. On Saturdays and Sundays, the computer is to be\n",
    "  operated by other staff.  Because of a tight budget, Beryl has to\n",
    "  minimize cost. She wishes to determine the number of hours she\n",
    "  should assign to each operator on each day.\n",
    "\n",
    "  Because of a tight budget, Beryl has to minimize cost. She wishes to\n",
    "  determine the number of hours she should assign to each operator on\n",
    "  each day.\n",
    "\n",
    "(a) Formulate an abstract linear programming model for this problem that can be generalized to any number of workers and days.  This is very similar to the \"Supply and Demand\" self-assessment problem:\n",
    "- \"supply\" is the weekly hours worked by each worker, but it's possible for workers to work more than the guaranteed minimum hours each week\n",
    "- \"demand\" is the daily hours that must be staffed\n",
    "- you'll need additional constraints that reflect that each worker has limited availability on each day, on some days they have zero availability\n",
    "\n",
    "Include your mathematical model here.  You can typeset the model with LaTeX or include a clean, cropped picture of your handwritten equations."
   ]
  },
  {
   "cell_type": "markdown",
   "metadata": {
    "hidden": true
   },
   "source": [
    "<font color = \"blue\"> *** 4 points -  answer in cell below *** (don't delete this cell) </font>"
   ]
  },
  {
   "cell_type": "markdown",
   "metadata": {
    "hidden": true
   },
   "source": []
  },
  {
   "cell_type": "markdown",
   "metadata": {
    "hidden": true
   },
   "source": [
    "(b) Solve this model using Pyomo, coding the data and model separately as done, for example, in the \"Supply and Demand\" Self Assessment problem. (You should be using the abstract approach as in the lesson). Your solution should include all necessary code and inputs and it should produce formatted output."
   ]
  },
  {
   "cell_type": "markdown",
   "metadata": {
    "hidden": true
   },
   "source": [
    "<font color = \"blue\"> *** 4 points -  answer in cell below *** (don't delete this cell) </font>"
   ]
  },
  {
   "cell_type": "code",
   "execution_count": null,
   "metadata": {
    "hidden": true
   },
   "outputs": [],
   "source": []
  },
  {
   "cell_type": "markdown",
   "metadata": {
    "hidden": true
   },
   "source": [
    "(c) Produce the sensitivity report in Python.  "
   ]
  },
  {
   "cell_type": "markdown",
   "metadata": {
    "hidden": true
   },
   "source": [
    "<font color = \"blue\"> *** 1 point -  answer in cell below *** (don't delete this cell) </font>"
   ]
  },
  {
   "cell_type": "code",
   "execution_count": null,
   "metadata": {
    "hidden": true
   },
   "outputs": [],
   "source": []
  },
  {
   "cell_type": "markdown",
   "metadata": {
    "hidden": true
   },
   "source": [
    "(d) Report and interpret the shadow price for H.B.'s available hours hours for Monday."
   ]
  },
  {
   "cell_type": "markdown",
   "metadata": {
    "hidden": true
   },
   "source": [
    "<font color = \"blue\"> *** 1 point -  answer in cell below *** (don't delete this cell) </font>"
   ]
  },
  {
   "cell_type": "markdown",
   "metadata": {
    "hidden": true
   },
   "source": []
  },
  {
   "cell_type": "markdown",
   "metadata": {
    "hidden": true
   },
   "source": [
    "(e) Report and interpret the activity range for H.B.'s available hours hours for Monday."
   ]
  },
  {
   "cell_type": "markdown",
   "metadata": {
    "hidden": true
   },
   "source": [
    "<font color = \"blue\"> *** 1 point -  answer in cell below *** (don't delete this cell) </font>"
   ]
  },
  {
   "cell_type": "markdown",
   "metadata": {
    "hidden": true
   },
   "source": []
  },
  {
   "cell_type": "markdown",
   "metadata": {
    "heading_collapsed": true
   },
   "source": [
    "# Textbook Problem 7.3-7 (parts)"
   ]
  },
  {
   "cell_type": "markdown",
   "metadata": {
    "hidden": true
   },
   "source": [
    "This question is based on the material labeled \"Personnel\n",
    "Scheduling\" beginning on page 57 of the textbook.  Table 3.19 is\n",
    "reproduced here for convenience: \n",
    "\n",
    "<img src=\"images/problem5p5.png\" width=\"640\" height=\"450\"> \n",
    "\n",
    "Management now is considering increasing the level of service\n",
    "provided to customers by increasing one or more of the numbers in the\n",
    "rightmost column of Table 3.19 for the minimum number of agents needed\n",
    "in the various time periods. To guide them in making this decision,\n",
    "they would like to know what impact this change would have on total\n",
    "cost.  (*Note: the letters (a), (b), etc. do not match the letters in the textbook problem.*)\n",
    "\n",
    "(a) Use Pyomo with the GLPK solver to generate the sensitivity report in preparation for addressing the following questions.  Your Pyomo solution should be written in a general way that can be applied to any number time periods and shifts (use the abstract approach).  In the cell below we've included the problem data to get you started.  Note that the \"rows\" in ```periods_covered``` allow you form the mimimum number of agents constraints.  For instance, based on the second \"row\" we know that the constraint for the 8am - 10am time period is $$ 1 x_{s1} + 1 x_{s2} + 0 x_{s3} + 0 x_{s4} + 0 x_{s5} \\geq 79$$ because only agents in shifts 1 and 2 provide coverage for that time period. "
   ]
  },
  {
   "cell_type": "markdown",
   "metadata": {
    "hidden": true
   },
   "source": [
    "<font color = \"blue\"> *** 7 points -  answer in cell below *** (don't delete this cell) </font>"
   ]
  },
  {
   "cell_type": "code",
   "execution_count": 1,
   "metadata": {
    "hidden": true
   },
   "outputs": [],
   "source": [
    "# data for problem 7.3-7\n",
    "periods = [\n",
    "    'p6_8', 'p8_10', 'p10_12', 'p12_14', 'p14_16', 'p16_18', 'p18_20',\n",
    "    'p20_22', 'p22_24', 'p24_6'\n",
    "]\n",
    "shifts = ['s1', 's2', 's3', 's4', 's5']\n",
    "daily_cost_per_agent = dict( zip( shifts, [170, 160, 175, 180, 195] ) )\n",
    "min_agents_per_period = dict( zip( periods, [48, 79, 65, 87, 64, 73, 82, 43, 52, 15] ) )\n",
    "                            \n",
    "pc = [[1, 0, 0, 0, 0], [1, 1, 0, 0, 0], [1, 1, 0, 0, 0], [1, 1, 1, 0, 0],\n",
    "     [0, 1, 1, 0, 0], [0, 0, 1, 1, 0], [0, 0, 1, 1, 0], [0, 0, 0, 1, 0],\n",
    "     [0, 0, 0, 1, 1], [0, 0, 0, 0, 1]]\n",
    "periods_covered = { periods[p]: dict(zip( shifts, pc[p][:])) for p in range(len(periods))}\n",
    "\n",
    "# finish the code here:\n"
   ]
  },
  {
   "cell_type": "markdown",
   "metadata": {
    "hidden": true
   },
   "source": [
    "(b) Which of the numbers in\n",
    "the rightmost column of Table 3.19 can be increased without increasing\n",
    "total cost? In each case, indicate how much it can be increased (if it\n",
    "is the only one being changed) without increasing total cost."
   ]
  },
  {
   "cell_type": "markdown",
   "metadata": {
    "hidden": true
   },
   "source": [
    "<font color = \"blue\"> *** 2 points -  answer in cell below *** (don't delete this cell) </font>"
   ]
  },
  {
   "cell_type": "markdown",
   "metadata": {
    "hidden": true
   },
   "source": []
  },
  {
   "cell_type": "markdown",
   "metadata": {
    "hidden": true
   },
   "source": [
    "(c) For each of the other numbers, how much would the total cost increase per increase of 1 in the number? For each answer, indicate how much the number can be increased (if it is the only one being changed) before the answer is no longer valid. "
   ]
  },
  {
   "cell_type": "markdown",
   "metadata": {
    "hidden": true
   },
   "source": [
    "<font color = \"blue\"> *** 2 points -  answer in cell below *** (don't delete this cell) </font>"
   ]
  },
  {
   "cell_type": "markdown",
   "metadata": {
    "hidden": true
   },
   "source": []
  },
  {
   "cell_type": "markdown",
   "metadata": {
    "hidden": true
   },
   "source": [
    "(d) Do your answers in part (c) definitely remain valid if all the numbers considered in part (b) are simultaneously increased by one? (What percent of the allowable increase is an increase of 1 for each RHS? Consider Hillier p. 238) "
   ]
  },
  {
   "cell_type": "markdown",
   "metadata": {
    "hidden": true
   },
   "source": [
    "<font color = \"blue\"> *** 2 points -  answer in cell below *** (don't delete this cell) </font>"
   ]
  },
  {
   "cell_type": "markdown",
   "metadata": {
    "hidden": true
   },
   "source": []
  }
 ],
 "metadata": {
  "kernelspec": {
   "display_name": "Python 3",
   "language": "python",
   "name": "python3"
  },
  "language_info": {
   "codemirror_mode": {
    "name": "ipython",
    "version": 3
   },
   "file_extension": ".py",
   "mimetype": "text/x-python",
   "name": "python",
   "nbconvert_exporter": "python",
   "pygments_lexer": "ipython3",
   "version": "3.7.4"
  },
  "toc": {
   "base_numbering": 1,
   "nav_menu": {},
   "number_sections": true,
   "sideBar": true,
   "skip_h1_title": false,
   "title_cell": "Table of Contents",
   "title_sidebar": "Contents",
   "toc_cell": false,
   "toc_position": {
    "height": "calc(100% - 180px)",
    "left": "10px",
    "top": "150px",
    "width": "204.787px"
   },
   "toc_section_display": true,
   "toc_window_display": true
  },
  "varInspector": {
   "cols": {
    "lenName": 16,
    "lenType": 16,
    "lenVar": 40
   },
   "kernels_config": {
    "python": {
     "delete_cmd_postfix": "",
     "delete_cmd_prefix": "del ",
     "library": "var_list.py",
     "varRefreshCmd": "print(var_dic_list())"
    },
    "r": {
     "delete_cmd_postfix": ") ",
     "delete_cmd_prefix": "rm(",
     "library": "var_list.r",
     "varRefreshCmd": "cat(var_dic_list()) "
    }
   },
   "types_to_exclude": [
    "module",
    "function",
    "builtin_function_or_method",
    "instance",
    "_Feature"
   ],
   "window_display": false
  }
 },
 "nbformat": 4,
 "nbformat_minor": 2
}
